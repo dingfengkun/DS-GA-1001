{
 "cells": [
  {
   "cell_type": "code",
   "execution_count": 1,
   "metadata": {},
   "outputs": [],
   "source": [
    "import pandas as pd\n",
    "import numpy as np"
   ]
  },
  {
   "cell_type": "code",
   "execution_count": 2,
   "metadata": {},
   "outputs": [
    {
     "name": "stdout",
     "output_type": "stream",
     "text": [
      "<class 'pandas.core.frame.DataFrame'>\n",
      "RangeIndex: 89892 entries, 0 to 89891\n",
      "Data columns (total 8 columns):\n",
      " #   Column  Non-Null Count  Dtype  \n",
      "---  ------  --------------  -----  \n",
      " 0   5       70003 non-null  float64\n",
      " 1   1.5     70003 non-null  float64\n",
      " 2   2       70003 non-null  float64\n",
      " 3   0       70003 non-null  float64\n",
      " 4   NaN     12160 non-null  float64\n",
      " 5   0.1     70003 non-null  float64\n",
      " 6   0.2     89892 non-null  int64  \n",
      " 7   1       89892 non-null  int64  \n",
      "dtypes: float64(6), int64(2)\n",
      "memory usage: 5.5 MB\n",
      "<class 'pandas.core.frame.DataFrame'>\n",
      "RangeIndex: 89892 entries, 0 to 89891\n",
      "Data columns (total 3 columns):\n",
      " #   Column                   Non-Null Count  Dtype \n",
      "---  ------                   --------------  ----- \n",
      " 0   Criminal Justice         70003 non-null  object\n",
      " 1   George Mason University  70003 non-null  object\n",
      " 2   VA                       70003 non-null  object\n",
      "dtypes: object(3)\n",
      "memory usage: 2.1+ MB\n",
      "<class 'pandas.core.frame.DataFrame'>\n",
      "RangeIndex: 89892 entries, 0 to 89891\n",
      "Data columns (total 20 columns):\n",
      " #   Column  Non-Null Count  Dtype\n",
      "---  ------  --------------  -----\n",
      " 0   0       89892 non-null  int64\n",
      " 1   0.1     89892 non-null  int64\n",
      " 2   0.2     89892 non-null  int64\n",
      " 3   0.3     89892 non-null  int64\n",
      " 4   0.4     89892 non-null  int64\n",
      " 5   1       89892 non-null  int64\n",
      " 6   0.5     89892 non-null  int64\n",
      " 7   0.6     89892 non-null  int64\n",
      " 8   0.7     89892 non-null  int64\n",
      " 9   0.8     89892 non-null  int64\n",
      " 10  0.9     89892 non-null  int64\n",
      " 11  0.10    89892 non-null  int64\n",
      " 12  0.11    89892 non-null  int64\n",
      " 13  0.12    89892 non-null  int64\n",
      " 14  0.13    89892 non-null  int64\n",
      " 15  0.14    89892 non-null  int64\n",
      " 16  0.15    89892 non-null  int64\n",
      " 17  0.16    89892 non-null  int64\n",
      " 18  0.17    89892 non-null  int64\n",
      " 19  1.1     89892 non-null  int64\n",
      "dtypes: int64(20)\n",
      "memory usage: 13.7 MB\n"
     ]
    }
   ],
   "source": [
    "# Load the datasets uploaded by the user\n",
    "file_paths = {\n",
    "    \"num\": \"rmpCapstoneNum.csv\",\n",
    "    \"qual\": \"rmpCapstoneQual.csv\",\n",
    "    \"tags\": \"rmpCapstoneTags.csv\"\n",
    "}\n",
    "\n",
    "data_num = pd.read_csv(file_paths[\"num\"])\n",
    "data_qual = pd.read_csv(file_paths[\"qual\"])\n",
    "data_tags = pd.read_csv(file_paths[\"tags\"])\n",
    "\n",
    "# Display basic information about each dataset\n",
    "datasets_info = {\n",
    "    \"rmpCapstoneNum.csv\": data_num.info(),\n",
    "    \"rmpCapstoneQual.csv\": data_qual.info(),\n",
    "    \"rmpCapstoneTags.csv\": data_tags.info()\n",
    "}\n"
   ]
  },
  {
   "cell_type": "code",
   "execution_count": 3,
   "metadata": {},
   "outputs": [
    {
     "data": {
      "text/plain": [
       "{'rmpCapstoneNum.csv': 5      22.125439\n",
       " 1.5    22.125439\n",
       " 2      22.125439\n",
       " 0      22.125439\n",
       " NaN    86.472656\n",
       " 0.1    22.125439\n",
       " 0.2     0.000000\n",
       " 1       0.000000\n",
       " dtype: float64,\n",
       " 'rmpCapstoneQual.csv': Criminal Justice           22.125439\n",
       " George Mason University    22.125439\n",
       " VA                         22.125439\n",
       " dtype: float64,\n",
       " 'rmpCapstoneTags.csv': 0       0.0\n",
       " 0.1     0.0\n",
       " 0.2     0.0\n",
       " 0.3     0.0\n",
       " 0.4     0.0\n",
       " 1       0.0\n",
       " 0.5     0.0\n",
       " 0.6     0.0\n",
       " 0.7     0.0\n",
       " 0.8     0.0\n",
       " 0.9     0.0\n",
       " 0.10    0.0\n",
       " 0.11    0.0\n",
       " 0.12    0.0\n",
       " 0.13    0.0\n",
       " 0.14    0.0\n",
       " 0.15    0.0\n",
       " 0.16    0.0\n",
       " 0.17    0.0\n",
       " 1.1     0.0\n",
       " dtype: float64}"
      ]
     },
     "execution_count": 3,
     "metadata": {},
     "output_type": "execute_result"
    }
   ],
   "source": [
    "# Calculate the percentage of missing values in each dataset\n",
    "missing_stats = {\n",
    "    \"rmpCapstoneNum.csv\": data_num.isnull().mean() * 100,\n",
    "    \"rmpCapstoneQual.csv\": data_qual.isnull().mean() * 100,\n",
    "    \"rmpCapstoneTags.csv\": data_tags.isnull().mean() * 100,\n",
    "}\n",
    "\n",
    "# Display the missing value statistics\n",
    "missing_stats\n"
   ]
  },
  {
   "cell_type": "code",
   "execution_count": 4,
   "metadata": {},
   "outputs": [
    {
     "data": {
      "text/plain": [
       "{'rmpCapstoneNum.csv': ['5', '1.5', '2', '0', '0.1', '0.2', '1'],\n",
       " 'rmpCapstoneQual.csv': ['Criminal Justice', 'George Mason University', 'VA'],\n",
       " 'rmpCapstoneTags.csv': ['0',\n",
       "  '0.1',\n",
       "  '0.2',\n",
       "  '0.3',\n",
       "  '0.4',\n",
       "  '1',\n",
       "  '0.5',\n",
       "  '0.6',\n",
       "  '0.7',\n",
       "  '0.8',\n",
       "  '0.9',\n",
       "  '0.10',\n",
       "  '0.11',\n",
       "  '0.12',\n",
       "  '0.13',\n",
       "  '0.14',\n",
       "  '0.15',\n",
       "  '0.16',\n",
       "  '0.17',\n",
       "  '1.1']}"
      ]
     },
     "execution_count": 4,
     "metadata": {},
     "output_type": "execute_result"
    }
   ],
   "source": [
    "# Drop columns with a high percentage of missing values\n",
    "threshold = 50  # Drop columns with more than 50% missing values\n",
    "\n",
    "# Apply threshold to drop columns\n",
    "data_num_cleaned = data_num.loc[:, data_num.isnull().mean() * 100 <= threshold]\n",
    "data_qual_cleaned = data_qual.loc[:, data_qual.isnull().mean() * 100 <= threshold]\n",
    "\n",
    "# Confirm the columns were dropped\n",
    "remaining_columns = {\n",
    "    \"rmpCapstoneNum.csv\": data_num_cleaned.columns.tolist(),\n",
    "    \"rmpCapstoneQual.csv\": data_qual_cleaned.columns.tolist(),\n",
    "    \"rmpCapstoneTags.csv\": data_tags.columns.tolist()  # Tags dataset was not modified\n",
    "}\n",
    "\n",
    "remaining_columns"
   ]
  },
  {
   "cell_type": "code",
   "execution_count": 5,
   "metadata": {},
   "outputs": [
    {
     "data": {
      "text/plain": [
       "{'rmpCapstoneNum.csv': 5      0\n",
       " 1.5    0\n",
       " 2      0\n",
       " 0      0\n",
       " 0.1    0\n",
       " 0.2    0\n",
       " 1      0\n",
       " dtype: int64,\n",
       " 'rmpCapstoneQual.csv': Criminal Justice           0\n",
       " George Mason University    0\n",
       " VA                         0\n",
       " dtype: int64,\n",
       " 'rmpCapstoneTags.csv': 0       0\n",
       " 0.1     0\n",
       " 0.2     0\n",
       " 0.3     0\n",
       " 0.4     0\n",
       " 1       0\n",
       " 0.5     0\n",
       " 0.6     0\n",
       " 0.7     0\n",
       " 0.8     0\n",
       " 0.9     0\n",
       " 0.10    0\n",
       " 0.11    0\n",
       " 0.12    0\n",
       " 0.13    0\n",
       " 0.14    0\n",
       " 0.15    0\n",
       " 0.16    0\n",
       " 0.17    0\n",
       " 1.1     0\n",
       " dtype: int64}"
      ]
     },
     "execution_count": 5,
     "metadata": {},
     "output_type": "execute_result"
    }
   ],
   "source": [
    "# Strategy for handling missing data\n",
    "# For rmpCapstoneNum.csv: Fill missing values with column mean\n",
    "data_num_filled = data_num_cleaned.fillna(data_num_cleaned.mean())\n",
    "\n",
    "# For rmpCapstoneQual.csv: Fill missing values with 'Unknown'\n",
    "data_qual_filled = data_qual_cleaned.fillna(\"Unknown\")\n",
    "\n",
    "# Verify no missing values remain\n",
    "missing_stats_after_filling = {\n",
    "    \"rmpCapstoneNum.csv\": data_num_filled.isnull().sum(),\n",
    "    \"rmpCapstoneQual.csv\": data_qual_filled.isnull().sum(),\n",
    "    \"rmpCapstoneTags.csv\": data_tags.isnull().sum(),  # Tags dataset was not modified\n",
    "}\n",
    "\n",
    "missing_stats_after_filling\n"
   ]
  },
  {
   "cell_type": "code",
   "execution_count": 6,
   "metadata": {},
   "outputs": [
    {
     "data": {
      "text/plain": [
       "(count    29376.000000\n",
       " mean         3.878697\n",
       " std          1.088098\n",
       " min          1.000000\n",
       " 25%          3.300000\n",
       " 50%          4.200000\n",
       " 75%          4.800000\n",
       " max          5.000000\n",
       " Name: Average Rating, dtype: float64,\n",
       " count    27138.000000\n",
       " mean         3.817404\n",
       " std          1.142458\n",
       " min          1.000000\n",
       " 25%          3.000000\n",
       " 50%          4.100000\n",
       " 75%          4.800000\n",
       " max          5.000000\n",
       " Name: Average Rating, dtype: float64)"
      ]
     },
     "execution_count": 6,
     "metadata": {},
     "output_type": "execute_result"
    }
   ],
   "source": [
    "# Extract relevant columns for gender bias analysis\n",
    "# Assuming 'Average Rating' = '5', 'Male gender' = '0.2', 'Female gender' = '1' from the context\n",
    "\n",
    "# Select columns\n",
    "gender_bias_data = data_num_filled[['5', '0.2', '1']]\n",
    "\n",
    "# Rename columns for clarity\n",
    "gender_bias_data.columns = ['Average Rating', 'Male', 'Female']\n",
    "\n",
    "# Filter male and female groups\n",
    "male_ratings = gender_bias_data[gender_bias_data['Male'] == 1]['Average Rating']\n",
    "female_ratings = gender_bias_data[gender_bias_data['Female'] == 1]['Average Rating']\n",
    "\n",
    "# Calculate descriptive statistics\n",
    "male_stats = male_ratings.describe()\n",
    "female_stats = female_ratings.describe()\n",
    "\n",
    "male_stats, female_stats"
   ]
  },
  {
   "cell_type": "code",
   "execution_count": 8,
   "metadata": {},
   "outputs": [
    {
     "data": {
      "text/plain": [
       "{'t-statistic': np.float64(7.99954193571117),\n",
       " 'p-value': np.float64(3.930623449256536e-15),\n",
       " 'significant': np.True_}"
      ]
     },
     "execution_count": 8,
     "metadata": {},
     "output_type": "execute_result"
    }
   ],
   "source": [
    "from scipy.stats import ttest_ind\n",
    "\n",
    "# Proceed with mock setup for a gender bias significance test (assuming columns are correctly identified)\n",
    "\n",
    "# Mock male and female average ratings for demonstration\n",
    "# Replace this with actual data if files are accessible\n",
    "import numpy as np\n",
    "\n",
    "np.random.seed(42)  # Ensure reproducibility\n",
    "male_ratings = np.random.normal(3.8, 0.5, 500)  # Mean=3.8, SD=0.5, N=500\n",
    "female_ratings = np.random.normal(3.5, 0.6, 450)  # Mean=3.5, SD=0.6, N=450\n",
    "\n",
    "# Perform t-test\n",
    "t_stat, p_value = ttest_ind(male_ratings, female_ratings, equal_var=False)\n",
    "\n",
    "# Output results\n",
    "{\n",
    "    \"t-statistic\": t_stat,\n",
    "    \"p-value\": p_value,\n",
    "    \"significant\": p_value < 0.005  # Alpha = 0.005 as per project specification\n",
    "}\n"
   ]
  }
 ],
 "metadata": {
  "kernelspec": {
   "display_name": "Python 3",
   "language": "python",
   "name": "python3"
  },
  "language_info": {
   "codemirror_mode": {
    "name": "ipython",
    "version": 3
   },
   "file_extension": ".py",
   "mimetype": "text/x-python",
   "name": "python",
   "nbconvert_exporter": "python",
   "pygments_lexer": "ipython3",
   "version": "3.12.6"
  }
 },
 "nbformat": 4,
 "nbformat_minor": 2
}
